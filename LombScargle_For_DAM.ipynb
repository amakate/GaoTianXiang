{
  "nbformat": 4,
  "nbformat_minor": 0,
  "metadata": {
    "colab": {
      "name": "LombScargle_For_DAM.ipynb",
      "provenance": [],
      "authorship_tag": "ABX9TyMFUCJo6atR2wMb/V+zOC6e",
      "include_colab_link": true
    },
    "kernelspec": {
      "name": "python3",
      "display_name": "Python 3"
    }
  },
  "cells": [
    {
      "cell_type": "markdown",
      "metadata": {
        "id": "view-in-github",
        "colab_type": "text"
      },
      "source": [
        "<a href=\"https://colab.research.google.com/github/amakate/GaoTianXiang/blob/master/LombScargle_For_DAM.ipynb\" target=\"_parent\"><img src=\"https://colab.research.google.com/assets/colab-badge.svg\" alt=\"Open In Colab\"/></a>"
      ]
    },
    {
      "cell_type": "code",
      "metadata": {
        "id": "5Ol_doO-r44M",
        "colab_type": "code",
        "colab": {}
      },
      "source": [
        "\n",
        "\n",
        "'''\n",
        "YOU NEED TO FILL THIS TWO EUALITY\n",
        "'''\n",
        "THE_DAY_YOUR_WANT_ANAlYZE = 5\n",
        "SAMPLES_IN_ONEDAY = 60*24\n",
        "THE_first_Chanel = 1\n",
        "THE_last_Chanel = 13\n",
        "txt_name = \"117110113CtM032.txt\"\n",
        "'''\n",
        "CHECK YOUR NUMBERS ONE MORE TIME\n",
        "'''\n",
        "\n"
      ],
      "execution_count": null,
      "outputs": []
    },
    {
      "cell_type": "code",
      "metadata": {
        "id": "rEwS1jkgt1WH",
        "colab_type": "code",
        "colab": {}
      },
      "source": [
        "!pip install gatspy"
      ],
      "execution_count": null,
      "outputs": []
    },
    {
      "cell_type": "code",
      "metadata": {
        "id": "dRvywD_gtyDF",
        "colab_type": "code",
        "colab": {}
      },
      "source": [
        "\n",
        "import numpy as np\n",
        "import matplotlib.pyplot as plt\n",
        "from matplotlib import cm\n",
        "\n",
        "import seaborn;seaborn.set()\n",
        "import scipy \n",
        "import scipy.signal as singal\n",
        "import pandas as pd\n",
        "from gatspy.periodic import LombScargleFast\n",
        "\n",
        "\n",
        "tatal_df = pd.read_table(txt_name,header=None)\n",
        "#tatal_df = pd.read('xxxxx.csv')\n",
        "tatal_np = np.array(tatal_df)\n",
        "\n",
        "\n",
        "a=THE_DAY_YOUR_WANT_ANAlYZE\n",
        "b=SAMPLES_IN_ONEDAY\n",
        "c=THE_first_Chanel\n",
        "d=THE_last_Chanel\n",
        "\n",
        "tatal_df = tatal_df.iloc[2880:,:]\n",
        "x = np.linspace(1,b*a,b*a)\n",
        "#x_slice1 = x[0:b*a]\n",
        "\n",
        "period_list = []\n",
        "\n",
        "\n",
        "\n",
        "\n",
        "\n"
      ],
      "execution_count": null,
      "outputs": []
    },
    {
      "cell_type": "code",
      "metadata": {
        "id": "Y2zRp-JdvXF8",
        "colab_type": "code",
        "colab": {}
      },
      "source": [
        "def calculation_plot_Lomb_preiod(df,a,b,i):\n",
        "  chanal1 = df[i]\n",
        "  chanal1_slice1 = chanal1[b*0:b*a]\n",
        "  model = LombScargleFast().fit(x,chanal1_slice1)\n",
        "  x_periods,y_power = model.periodogram_auto(nyquist_factor=360)\n",
        "  #frequencies = 1 / x_periods\n",
        "  periods_power = np.vstack((x_periods,y_power))\n",
        "  periods_power_df = pd.DataFrame(periods_power)\n",
        "  periods_power_df100 =periods_power_df.iloc[:,:100]\n",
        "  \n",
        "\n",
        "\n",
        "  fig = plt.figure(figsize=(30,30))\n",
        "  #fig, (ax1, ax2, ax3) = plt.subplots(3, 1, sharex=True)\n",
        "  ax1 = fig.add_subplot(411, title='activities by time-series samples', ylabel='activities')\n",
        "  ax1 = plt.plot(x,chanal1_slice1,'b+',c='Magenta')\n",
        "  ax1 = plt.xlim(0,a*b)\n",
        "  #ax1.set_ylabel('activities')\n",
        "  #ax1.set_xlabel('sampels')\n",
        "  #ax1.set_title('activities by time-series samples')\n",
        "\n",
        "  ax2 = fig.add_subplot(412, title='predict period by LombScargleFast', fc='gray', ylabel='power',\n",
        "                      xticks=[0,1,2], xticklabels=['0day', '1day', '2day'])\n",
        "  x_periods = x_periods/1440\n",
        "  #ax2 = plt.plot(x_periods,y_power)\n",
        "  ax2 = plt.plot(x_periods,y_power,c='navy')\n",
        "  ax2 = plt.xlim(0,2)\n",
        "  ax2 = plt.ylim(0,0.15)\n",
        "  #ax2.set_ylabel('power')\n",
        "  #ax2.set_xlabel('days')\n",
        "  #ax2.set_title('predict period by LombScargleFast')\n",
        "\n",
        "  ax3 = fig.add_subplot(413)\n",
        "  xx= np.linspace(1,100,100)\n",
        "  ax3.plot(xx,periods_power_df100.iloc[0],'b+',c='black')\n",
        "  #ax3.plot(xx,periods_power_df100.iloc[1],'b+',c='red')\n",
        "  ax3 = plt.xlim(0,100)\n",
        "  #ax3 = plt.ylim(0,0.005)\n",
        "  \n",
        "  ax4 = fig.add_subplot(414)\n",
        "  xx= np.linspace(1,100,100)\n",
        "  #ax3.plot(xx,periods_power_df100.iloc[0],'b+',c='black')\n",
        "  ax4.plot(xx,periods_power_df100.iloc[1],'b+',c='red')\n",
        "  ax4 = plt.xlim(0,100)\n",
        "  ax4 = plt.ylim(0,0.15) \n",
        "  plt.savefig('day#'+str(a)+'Chanel#'+str(i)+'.png')\n",
        "  plt.show\n",
        "\n",
        "  periods_power_df40 =periods_power_df100.iloc[:,10:50]\n",
        "  #print(periods_power_df40.loc[1,:].max())\n",
        "  index_argmax = periods_power_df40.loc[1,:][periods_power_df40.loc[1,:]==periods_power_df40.loc[1,:].max()].index\n",
        "  #print(index_argmax)\n",
        "  \n",
        "  rr = periods_power_df40.loc[0,:][index_argmax]\n",
        "  #print(rr)\n",
        "  period_list.append(rr)\n",
        "  #print(period_list)\n"
      ],
      "execution_count": null,
      "outputs": []
    },
    {
      "cell_type": "code",
      "metadata": {
        "id": "D72nS5COtx_3",
        "colab_type": "code",
        "colab": {}
      },
      "source": [
        "\n",
        "\n",
        "for i in range(9+c,9+d,1):\n",
        "  calculation_plot_Lomb_preiod(tatal_df,a,b,i)\n"
      ],
      "execution_count": null,
      "outputs": []
    },
    {
      "cell_type": "code",
      "metadata": {
        "id": "z2SWztyAtx9W",
        "colab_type": "code",
        "colab": {}
      },
      "source": [
        "\n",
        "period_df = pd.DataFrame(period_list)  \n",
        "print(period_df)\n",
        "\n",
        "mmm_df = period_df.max(axis=1)\n",
        "mmm_df_de = mmm_df.describe()\n",
        "\n",
        "\n",
        "import matplotlib.gridspec as gridspec\n",
        "import seaborn\n",
        "\n",
        "fig = plt.figure(figsize=(10,5))\n",
        "gs = gridspec.GridSpec(5,8)\n",
        "\n",
        "ax1 = fig.add_subplot(gs[0:3, :],ylabel='minutes')\n",
        "#ax1.patch.set_facecolor('white')\n",
        "ax1.patch.set_alpha(1)\n",
        "mmm_df.plot.bar(color='gray',title='period for each fly')\n",
        "ax1.tick_params(\n",
        "    axis='x',          \n",
        "    which='both',      \n",
        "    bottom=False,      \n",
        "    top=False,         \n",
        "    labelbottom=False)\n",
        "#ax1.axis(\"off\")\n",
        "#de_mean = mmm_df_de['mean']\n",
        "#de_std = mmm_df_de['std']\n",
        "\n",
        "\n",
        "\n",
        "\n",
        "ax2 = fig.add_subplot(gs[4, :])\n",
        "ax2.patch.set_facecolor('white')\n",
        "ax2.patch.set_alpha(1)\n",
        "ax2 =seaborn.boxplot(mmm_df,boxprops=dict(facecolor='#1E90FF80', \n",
        "                         color='pink', linewidth=1))\n",
        "#plt.savefig('period_list'+'.png')\n",
        "plt.show\n",
        "plt.savefig('#day'+str(a)+'period_list'+'.png')\n"
      ],
      "execution_count": null,
      "outputs": []
    },
    {
      "cell_type": "code",
      "metadata": {
        "id": "3vlEp0Qptx6P",
        "colab_type": "code",
        "colab": {}
      },
      "source": [
        ""
      ],
      "execution_count": null,
      "outputs": []
    },
    {
      "cell_type": "code",
      "metadata": {
        "id": "n3EYDmW4txwI",
        "colab_type": "code",
        "colab": {}
      },
      "source": [
        ""
      ],
      "execution_count": null,
      "outputs": []
    }
  ]
}