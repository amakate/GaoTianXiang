{
  "nbformat": 4,
  "nbformat_minor": 0,
  "metadata": {
    "colab": {
      "name": "deepl api translate.ipynb",
      "provenance": [],
      "private_outputs": true,
      "authorship_tag": "ABX9TyOaVBtbFUFVs/QUtlBkkfvD",
      "include_colab_link": true
    },
    "kernelspec": {
      "name": "python3",
      "display_name": "Python 3"
    }
  },
  "cells": [
    {
      "cell_type": "markdown",
      "metadata": {
        "id": "view-in-github",
        "colab_type": "text"
      },
      "source": [
        "<a href=\"https://colab.research.google.com/github/amakate/GaoTianXiang/blob/master/deepl_api_translate.ipynb\" target=\"_parent\"><img src=\"https://colab.research.google.com/assets/colab-badge.svg\" alt=\"Open In Colab\"/></a>"
      ]
    },
    {
      "cell_type": "code",
      "metadata": {
        "id": "Gn5AaX7YcWW1",
        "colab_type": "code",
        "colab": {}
      },
      "source": [
        "!pip install pdfminer3k"
      ],
      "execution_count": null,
      "outputs": []
    },
    {
      "cell_type": "code",
      "metadata": {
        "id": "A4h2y_CHcXFU",
        "colab_type": "code",
        "colab": {}
      },
      "source": [
        "import os.path\n",
        "from pdfminer.pdfparser import PDFParser,PDFDocument\n",
        "from pdfminer.pdfinterp import PDFResourceManager, PDFPageInterpreter\n",
        "from pdfminer.converter import PDFPageAggregator\n",
        "from pdfminer.layout import LTTextBoxHorizontal,LAParams\n",
        "from pdfminer.pdfinterp import PDFTextExtractionNotAllowed\n",
        "#import warnings\n",
        "#warnings.filterwarnings('ignore') "
      ],
      "execution_count": null,
      "outputs": []
    },
    {
      "cell_type": "code",
      "metadata": {
        "id": "bEnRtYjEeV-4",
        "colab_type": "code",
        "colab": {}
      },
      "source": [
        "YOUR_API_KEY ='???????????????????????????'"
      ],
      "execution_count": null,
      "outputs": []
    },
    {
      "cell_type": "code",
      "metadata": {
        "id": "9Nuxr8F7e7No",
        "colab_type": "code",
        "colab": {}
      },
      "source": [
        "\n",
        "class CPdf2TxtManager():\n",
        "    '''\n",
        "    classdocs\n",
        "    '''\n",
        " \n",
        " \n",
        "    def __init__(self):\n",
        "        '''\n",
        "        Constructor\n",
        "        '''\n",
        "    \n",
        "    def changePdfToText(self, filePath): \n",
        "        file = open(path, 'rb') \n",
        "        \n",
        "        praser = PDFParser(file)\n",
        "        \n",
        "        doc = PDFDocument()\n",
        "       \n",
        "        praser.set_document(doc)\n",
        "        doc.set_parser(praser)\n",
        "    \n",
        "        \n",
        "        doc.initialize()\n",
        "    \n",
        "        \n",
        "        if not doc.is_extractable:\n",
        "            raise PDFTextExtractionNotAllowed\n",
        "        \n",
        "        \n",
        "        rsrcmgr = PDFResourceManager()\n",
        "        \n",
        "        laparams = LAParams()\n",
        "        device = PDFPageAggregator(rsrcmgr, laparams=laparams)\n",
        "        \n",
        "        interpreter = PDFPageInterpreter(rsrcmgr, device)\n",
        "        pdfStr = ''\n",
        "        \n",
        "        for page in doc.get_pages(): \n",
        "            interpreter.process_page(page)\n",
        "            \n",
        "            layout = device.get_result()\n",
        "            \n",
        "            for x in layout:\n",
        "                if (isinstance(x, LTTextBoxHorizontal)):\n",
        "                    pdfStr = pdfStr + x.get_text() + '\\n'\n",
        "                    \n",
        "        fileNames = os.path.splitext(filePath)            \n",
        "        file2 = open(fileNames[0] + '.txt','wb')#保存这些内容\n",
        "        file2.write(pdfStr.encode())\n",
        "        file2.close()    \n",
        "        file.close()\n",
        "  "
      ],
      "execution_count": null,
      "outputs": []
    },
    {
      "cell_type": "code",
      "metadata": {
        "id": "s7PV8Q7lcXN5",
        "colab_type": "code",
        "colab": {}
      },
      "source": [
        "      \n",
        "if __name__ == '__main__':\n",
        "    '''\n",
        "     pdfからtxtに書き込み\n",
        "    '''\n",
        "    #/content/SIG-AIMED-006-10.pdf\n",
        "    #/content/Food anticipatory circadian rhythms in mice entrained to long or short day photoperiods.pdf\n",
        "    path = r'/content/#1.pdf'\n",
        "    pdf2TxtManager = CPdf2TxtManager()\n",
        "    pdf2TxtManager.changePdfToText(path)"
      ],
      "execution_count": null,
      "outputs": []
    },
    {
      "cell_type": "code",
      "metadata": {
        "id": "gjDNPgZFcXQn",
        "colab_type": "code",
        "colab": {}
      },
      "source": [
        "import requests\n"
      ],
      "execution_count": null,
      "outputs": []
    },
    {
      "cell_type": "code",
      "metadata": {
        "id": "GPQfOlrtcon1",
        "colab_type": "code",
        "colab": {}
      },
      "source": [
        "path = '/content/#1.txt'\n",
        "#/content/#1.txt\n",
        "f = open(path)\n",
        "\n",
        "print(type(f))"
      ],
      "execution_count": null,
      "outputs": []
    },
    {
      "cell_type": "code",
      "metadata": {
        "id": "PjWLKgeFcqvf",
        "colab_type": "code",
        "colab": {}
      },
      "source": [
        "with open(path) as f:\n",
        "    s = f.read()\n",
        "    print(type(s))\n",
        "    print(s)"
      ],
      "execution_count": null,
      "outputs": []
    },
    {
      "cell_type": "code",
      "metadata": {
        "id": "iJMf7MBpcsuB",
        "colab_type": "code",
        "colab": {}
      },
      "source": [
        "TEXT = \\\n",
        "s"
      ],
      "execution_count": null,
      "outputs": []
    },
    {
      "cell_type": "code",
      "metadata": {
        "id": "NpJWh7mIcuuq",
        "colab_type": "code",
        "colab": {}
      },
      "source": [
        "params = {\n",
        "          \"auth_key\":YOUR_API_KEY,\n",
        "         \"text\":TEXT,\n",
        "          \"source_lang\":'EN',\n",
        "          \"target_lang\":'JA'\n",
        "}"
      ],
      "execution_count": null,
      "outputs": []
    },
    {
      "cell_type": "code",
      "metadata": {
        "id": "WqniFV8ecwb7",
        "colab_type": "code",
        "colab": {}
      },
      "source": [
        "request = requests.post(\"https://api.deepl.com/v2/translate\",data=params)"
      ],
      "execution_count": null,
      "outputs": []
    },
    {
      "cell_type": "code",
      "metadata": {
        "id": "GWUU9kBucx98",
        "colab_type": "code",
        "colab": {}
      },
      "source": [
        "result = request.json()\n",
        "print(result[\"translations\"][0][\"text\"])"
      ],
      "execution_count": null,
      "outputs": []
    },
    {
      "cell_type": "code",
      "metadata": {
        "id": "uBKWjOEIeEaF",
        "colab_type": "code",
        "colab": {}
      },
      "source": [
        "print(result[\"translations\"][0][\"text\"])"
      ],
      "execution_count": null,
      "outputs": []
    },
    {
      "cell_type": "code",
      "metadata": {
        "id": "1hyURs0PewoS",
        "colab_type": "code",
        "colab": {}
      },
      "source": [
        ""
      ],
      "execution_count": null,
      "outputs": []
    }
  ]
}