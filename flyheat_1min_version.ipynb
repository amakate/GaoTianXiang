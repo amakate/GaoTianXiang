{
  "nbformat": 4,
  "nbformat_minor": 0,
  "metadata": {
    "colab": {
      "name": "flyheat_1min_version.ipynb",
      "provenance": [],
      "authorship_tag": "ABX9TyPq7yLoXZXNBi9Wq2ji8GTZ",
      "include_colab_link": true
    },
    "kernelspec": {
      "name": "python3",
      "display_name": "Python 3"
    }
  },
  "cells": [
    {
      "cell_type": "markdown",
      "metadata": {
        "id": "view-in-github",
        "colab_type": "text"
      },
      "source": [
        "<a href=\"https://colab.research.google.com/github/amakate/GaoTianXiang/blob/master/flyheat_1min_version.ipynb\" target=\"_parent\"><img src=\"https://colab.research.google.com/assets/colab-badge.svg\" alt=\"Open In Colab\"/></a>"
      ]
    },
    {
      "cell_type": "code",
      "metadata": {
        "id": "FaTIdXKJNSfg",
        "colab_type": "code",
        "colab": {}
      },
      "source": [
        "import numpy as np \n",
        "import pandas as pd \n",
        "import matplotlib.pyplot as plt\n",
        "import seaborn as sns\n",
        "import matplotlib as mpl"
      ],
      "execution_count": 0,
      "outputs": []
    },
    {
      "cell_type": "code",
      "metadata": {
        "id": "aFN0r787Nyi0",
        "colab_type": "code",
        "colab": {}
      },
      "source": [
        "import numpy as np \n",
        "import pandas as pd \n",
        "import matplotlib.pyplot as plt\n",
        "import seaborn as sns\n",
        "import matplotlib as mpl\n",
        "m66=pd.read_table('1052405CtM066.txt',header=None)\n",
        "m66.head()\n",
        "m66e=m66.iloc[:,10:26]\n",
        "start=list(range(0,128))\n",
        "print(start)\n",
        "start_s=pd.Series(start)\n",
        "start_vc=start_s.value_counts().sort_index()\n",
        "print(start_vc)\n",
        "start_vc=start_s.value_counts().sort_index()\n",
        "print(start_vc)\n",
        "start_vc_pd=pd.DataFrame(start_vc)\n",
        "print(start_vc_pd)\n",
        "#### tension\n",
        "for i in range(1,3960,1):\n",
        "  vc=pd.Series(m66e.iloc[0:15839,:].iloc[(i-1)*4:i*4,:].values[:, :].reshape(64,)).value_counts().sort_index()\n",
        "  df_vc=pd.DataFrame(vc)\n",
        "  start_vc_pd = pd.concat([start_vc_pd,df_vc], axis=1)\n",
        "  print(start_vc_pd)\n",
        "\n",
        "flyheat = start_vc_pd\n",
        "fig=plt.figure(figsize=(200, 30))\n",
        "flyheat = start_vc_pd\n",
        "sns.heatmap(flyheat.iloc[0:30,0600],vmin=0,vmax=40,cmap=\"jet\",square=True).invert_yaxis()\n",
        "plt.savefig('flyheat.png')"
      ],
      "execution_count": 0,
      "outputs": []
    },
    {
      "cell_type": "code",
      "metadata": {
        "id": "4elu0fq_NY7E",
        "colab_type": "code",
        "colab": {}
      },
      "source": [
        "m66=pd.read_table('1052405CtM066.txt',header=None)\n",
        "m66.head()"
      ],
      "execution_count": 0,
      "outputs": []
    },
    {
      "cell_type": "code",
      "metadata": {
        "id": "AU7l6C6yhMxG",
        "colab_type": "code",
        "colab": {}
      },
      "source": [
        "m66e=m66.iloc[:,10:26]"
      ],
      "execution_count": 0,
      "outputs": []
    },
    {
      "cell_type": "code",
      "metadata": {
        "id": "XhSnDF8PQDu7",
        "colab_type": "code",
        "colab": {}
      },
      "source": [
        "start=list(range(0,128))\n",
        "print(start)\n",
        "start_s=pd.Series(start)"
      ],
      "execution_count": 0,
      "outputs": []
    },
    {
      "cell_type": "code",
      "metadata": {
        "id": "Wdz89p13QfBE",
        "colab_type": "code",
        "colab": {}
      },
      "source": [
        "start_vc=start_s.value_counts().sort_index()\n",
        "print(start_vc)\n"
      ],
      "execution_count": 0,
      "outputs": []
    },
    {
      "cell_type": "code",
      "metadata": {
        "id": "XBxt3g7FQezp",
        "colab_type": "code",
        "colab": {}
      },
      "source": [
        "start_vc=start_s.value_counts().sort_index()\n",
        "print(start_vc)\n",
        "start_vc_pd=pd.DataFrame(start_vc)\n",
        "print(start_vc_pd)"
      ],
      "execution_count": 0,
      "outputs": []
    },
    {
      "cell_type": "code",
      "metadata": {
        "id": "2NrzUQYW8kxp",
        "colab_type": "code",
        "colab": {}
      },
      "source": [
        "#### tension\n",
        "for i in range(1,3960,1):\n",
        "  vc=pd.Series(m66e.iloc[0:15839,:].iloc[(i-1)*4:i*4,:].values[:, :].reshape(64,)).value_counts().sort_index()\n",
        "  df_vc=pd.DataFrame(vc)\n",
        "  start_vc_pd = pd.concat([start_vc_pd,df_vc], axis=1)\n",
        "  print(start_vc_pd)"
      ],
      "execution_count": 0,
      "outputs": []
    },
    {
      "cell_type": "code",
      "metadata": {
        "id": "GqK6ox-Gnl2B",
        "colab_type": "code",
        "colab": {}
      },
      "source": [
        "flyheat = start_vc_pd"
      ],
      "execution_count": 0,
      "outputs": []
    },
    {
      "cell_type": "code",
      "metadata": {
        "id": "CwTSStICAzLo",
        "colab_type": "code",
        "colab": {}
      },
      "source": [
        "fig=plt.figure(figsize=(200, 30))\n",
        "flyheat = start_vc_pd\n",
        "sns.heatmap(flyheat.iloc[0:30,0:1200],vmin=0,vmax=40,cmap=\"jet\",square=True).invert_yaxis()\n",
        "plt.savefig('flyheat.png')"
      ],
      "execution_count": 0,
      "outputs": []
    },
    {
      "cell_type": "code",
      "metadata": {
        "id": "M87bfhspAzI_",
        "colab_type": "code",
        "colab": {}
      },
      "source": [
        "fig=plt.figure(figsize=(200, 30))\n",
        "flyheat = start_vc_pd\n",
        "sns.heatmap(flyheat,vmin=0,vmax=40,cmap=\"Accent\",square=True).invert_yaxis()\n",
        "plt.savefig('flyheat#1.png')"
      ],
      "execution_count": 0,
      "outputs": []
    },
    {
      "cell_type": "code",
      "metadata": {
        "id": "fKd4eGuoAzGl",
        "colab_type": "code",
        "colab": {}
      },
      "source": [
        "fig=plt.figure(figsize=(400, 30))\n",
        "flyheat = start_vc_pd\n",
        "sns.heatmap(flyheat,vmin=0,vmax=40,cmap=\"Accent\",square=True).invert_yaxis()\n",
        "plt.savefig('flyheat#2.png')"
      ],
      "execution_count": 0,
      "outputs": []
    },
    {
      "cell_type": "code",
      "metadata": {
        "id": "RamN8PWi8kly",
        "colab_type": "code",
        "colab": {}
      },
      "source": [
        ""
      ],
      "execution_count": 0,
      "outputs": []
    },
    {
      "cell_type": "code",
      "metadata": {
        "id": "JQ7vnXLmD_Qh",
        "colab_type": "code",
        "colab": {}
      },
      "source": [
        ""
      ],
      "execution_count": 0,
      "outputs": []
    },
    {
      "cell_type": "code",
      "metadata": {
        "id": "6Ax9m7nC1TFn",
        "colab_type": "code",
        "colab": {}
      },
      "source": [
        ""
      ],
      "execution_count": 0,
      "outputs": []
    },
    {
      "cell_type": "code",
      "metadata": {
        "id": "Gf-nATBSD_NW",
        "colab_type": "code",
        "colab": {}
      },
      "source": [
        "import numpy as np \n",
        "import pandas as pd \n",
        "import matplotlib.pyplot as plt\n",
        "import seaborn as sns\n",
        "import matplotlib as mpl\n",
        "m66=pd.read_table('1052405CtM066.txt',header=None)\n",
        "m66.head()"
      ],
      "execution_count": 0,
      "outputs": []
    },
    {
      "cell_type": "code",
      "metadata": {
        "id": "sxs2FmC6D_Kd",
        "colab_type": "code",
        "colab": {}
      },
      "source": [
        "start=list(range(0,64))\n",
        "print(start)\n",
        "start_s=pd.Series(start)\n",
        "start_vc=start_s.value_counts().sort_index()\n",
        "print(start_vc)\n",
        "start_vc=start_s.value_counts().sort_index()\n",
        "print(start_vc)\n",
        "start_vc_pd=pd.DataFrame(start_vc)\n",
        "print(start_vc_pd)"
      ],
      "execution_count": 0,
      "outputs": []
    },
    {
      "cell_type": "code",
      "metadata": {
        "id": "jmLLTQXLzmOm",
        "colab_type": "code",
        "colab": {}
      },
      "source": [
        "m66e=m66.iloc[:,10:26]"
      ],
      "execution_count": 0,
      "outputs": []
    },
    {
      "cell_type": "code",
      "metadata": {
        "id": "U9-JaairD_G0",
        "colab_type": "code",
        "colab": {}
      },
      "source": [
        "#### tension\n",
        "for i in range(1,3960,1):\n",
        "  vc=pd.Series(m66e.iloc[0:15839,:].iloc[(i-1)*4:i*4,:].values[:, :].reshape(64,)).value_counts().sort_index()\n",
        "  df_vc=pd.DataFrame(vc)\n",
        "  start_vc_pd = pd.concat([start_vc_pd,df_vc], axis=1)\n",
        "  print(start_vc_pd)"
      ],
      "execution_count": 0,
      "outputs": []
    },
    {
      "cell_type": "code",
      "metadata": {
        "id": "g2UYVNM9D_EG",
        "colab_type": "code",
        "colab": {}
      },
      "source": [
        "fig=plt.figure(figsize=(300, 10))\n",
        "flyheat = start_vc_pd\n",
        "sns.heatmap(flyheat,vmin=0,vmax=40,cmap=\"jet\",square=True).invert_yaxis()\n",
        "plt.savefig('flyheat#1.png',dpi=100)"
      ],
      "execution_count": 0,
      "outputs": []
    },
    {
      "cell_type": "code",
      "metadata": {
        "id": "4DoY4Fn12Uni",
        "colab_type": "code",
        "colab": {}
      },
      "source": [
        "fig=plt.figure(figsize=(300, 10))\n",
        "flyheat = start_vc_pd\n",
        "sns.heatmap(flyheat.iloc[0:20,:],vmin=0,vmax=40,cmap=\"jet\",square=True).invert_yaxis()\n",
        "plt.savefig('flyheat#2.png',dpi=100)"
      ],
      "execution_count": 0,
      "outputs": []
    },
    {
      "cell_type": "code",
      "metadata": {
        "id": "ZI75JiRp2VwT",
        "colab_type": "code",
        "colab": {}
      },
      "source": [
        "fig=plt.figure(figsize=(300, 10))\n",
        "flyheat = start_vc_pd\n",
        "sns.heatmap(flyheat.iloc[0:10,:],vmin=0,vmax=40,cmap=\"jet\",square=True).invert_yaxis()\n",
        "plt.savefig('flyheat#3.png',dpi=100)"
      ],
      "execution_count": 0,
      "outputs": []
    },
    {
      "cell_type": "code",
      "metadata": {
        "id": "9WeyWdvZ2VuF",
        "colab_type": "code",
        "colab": {}
      },
      "source": [
        ""
      ],
      "execution_count": 0,
      "outputs": []
    },
    {
      "cell_type": "code",
      "metadata": {
        "id": "Jh11oNRF2Vph",
        "colab_type": "code",
        "colab": {}
      },
      "source": [
        "import numpy as np \n",
        "import pandas as pd \n",
        "import matplotlib.pyplot as plt\n",
        "import seaborn as sns\n",
        "import matplotlib as mpl\n",
        "m66=pd.read_table('1052405CtM066.txt',header=None)\n",
        "m66.head()\n",
        "\n",
        "start=list(range(0,64))\n",
        "print(start)\n",
        "start_s=pd.Series(start)\n",
        "start_vc=start_s.value_counts().sort_index()\n",
        "print(start_vc)\n",
        "start_vc=start_s.value_counts().sort_index()\n",
        "print(start_vc)\n",
        "start_vc_pd=pd.DataFrame(start_vc)\n",
        "print(start_vc_pd)\n",
        "\n",
        "m66e=m66.iloc[:,10:26]\n",
        "\n",
        "for i in range(1,1980,1):\n",
        "  vc=pd.Series(m66e.iloc[0:15839,:].iloc[(i-1)*8:i*8,:].values[:, :].reshape(128,)).value_counts().sort_index()\n",
        "  df_vc=pd.DataFrame(vc)\n",
        "  start_vc_pd = pd.concat([start_vc_pd,df_vc], axis=1)\n",
        "  print(start_vc_pd)\n",
        "\n",
        "\n",
        "fig=plt.figure(figsize=(300, 10))\n",
        "flyheat = start_vc_pd\n",
        "sns.heatmap(flyheat,vmin=0,vmax=40,cmap=\"jet\",square=True).invert_yaxis()\n",
        "plt.savefig('flyheat#8min.png',dpi=100)\n",
        "\n",
        "\n"
      ],
      "execution_count": 0,
      "outputs": []
    },
    {
      "cell_type": "code",
      "metadata": {
        "colab_type": "code",
        "id": "nh4uMNHgswSH",
        "colab": {}
      },
      "source": [
        "fig=plt.figure(figsize=(300, 10))\n",
        "flyheat = start_vc_pd\n",
        "sns.heatmap(flyheat,vmin=0,vmax=30,cmap=\"jet\",square=True).invert_yaxis()\n",
        "plt.savefig('flyheat#8min1.png',dpi=100)"
      ],
      "execution_count": 0,
      "outputs": []
    },
    {
      "cell_type": "code",
      "metadata": {
        "id": "S5O7YxVy2VnE",
        "colab_type": "code",
        "colab": {}
      },
      "source": [
        "import numpy as np \n",
        "import pandas as pd \n",
        "import matplotlib.pyplot as plt\n",
        "import seaborn as sns\n",
        "import matplotlib as mpl\n",
        "m66=pd.read_table('1052405CtM066.txt',header=None)\n",
        "m66.head()\n",
        "\n",
        "start=list(range(0,64))\n",
        "print(start)\n",
        "start_s=pd.Series(start)\n",
        "start_vc=start_s.value_counts().sort_index()\n",
        "print(start_vc)\n",
        "start_vc=start_s.value_counts().sort_index()\n",
        "print(start_vc)\n",
        "start_vc_pd=pd.DataFrame(start_vc)\n",
        "print(start_vc_pd)\n",
        "\n",
        "m66e=m66.iloc[:,10:26]\n",
        "\n",
        "for i in range(1,990,1):\n",
        "  vc=pd.Series(m66e.iloc[0:15839,:].iloc[(i-1)*16:i*16,:].values[:, :].reshape(256,)).value_counts().sort_index()\n",
        "  df_vc=pd.DataFrame(vc)\n",
        "  start_vc_pd = pd.concat([start_vc_pd,df_vc], axis=1)\n",
        "  print(start_vc_pd)\n",
        "\n",
        "\n",
        "fig=plt.figure(figsize=(300, 10))\n",
        "flyheat = start_vc_pd\n",
        "sns.heatmap(flyheat,vmin=0,vmax=40,cmap=\"jet\",square=True).invert_yaxis()\n",
        "plt.savefig('flyheat#8min.png',dpi=100)\n",
        "\n"
      ],
      "execution_count": 0,
      "outputs": []
    },
    {
      "cell_type": "code",
      "metadata": {
        "id": "N2diboik2VjP",
        "colab_type": "code",
        "colab": {}
      },
      "source": [
        "\n",
        "fig=plt.figure(figsize=(300, 10))\n",
        "flyheat = start_vc_pd\n",
        "sns.heatmap(flyheat,vmin=0,vmax=35,cmap=\"jet\",square=True).invert_yaxis()\n",
        "plt.savefig('flyheat#8min2.png',dpi=100)\n"
      ],
      "execution_count": 0,
      "outputs": []
    },
    {
      "cell_type": "code",
      "metadata": {
        "id": "CPWofGiwD_BR",
        "colab_type": "code",
        "colab": {}
      },
      "source": [
        "fig=plt.figure(figsize=(300, 10))\n",
        "flyheat = start_vc_pd\n",
        "sns.heatmap(flyheat,vmin=0,vmax=20,cmap=\"jet\",square=True).invert_yaxis()\n",
        "plt.savefig('flyheat#8min2.png',dpi=100)\n"
      ],
      "execution_count": 0,
      "outputs": []
    },
    {
      "cell_type": "code",
      "metadata": {
        "id": "6RXx6XEivbZe",
        "colab_type": "code",
        "colab": {}
      },
      "source": [
        "fig=plt.figure(figsize=(300, 10))\n",
        "flyheat = start_vc_pd\n",
        "sns.heatmap(flyheat,vmin=0,vmax=10,cmap=\"jet\",square=True).invert_yaxis()\n",
        "plt.savefig('flyheat#8min10.png',dpi=100)\n"
      ],
      "execution_count": 0,
      "outputs": []
    },
    {
      "cell_type": "code",
      "metadata": {
        "id": "byBEOpBQvbTy",
        "colab_type": "code",
        "colab": {}
      },
      "source": [
        "fig=plt.figure(figsize=(300, 10))\n",
        "flyheat = start_vc_pd\n",
        "sns.heatmap(flyheat,vmin=0,vmax=50,cmap=\"jet\",square=True).invert_yaxis()\n",
        "plt.savefig('flyheat#8min10.png',dpi=100)\n"
      ],
      "execution_count": 0,
      "outputs": []
    },
    {
      "cell_type": "code",
      "metadata": {
        "id": "ZEYduhuNvbRT",
        "colab_type": "code",
        "colab": {}
      },
      "source": [
        "fig=plt.figure(figsize=(300, 10))\n",
        "flyheat = start_vc_pd\n",
        "sns.heatmap(flyheat,vmin=0,vmax=70,cmap=\"jet\",square=True).invert_yaxis()\n",
        "plt.savefig('flyheat#8min10.png',dpi=100)"
      ],
      "execution_count": 0,
      "outputs": []
    },
    {
      "cell_type": "code",
      "metadata": {
        "id": "nhbRrmHavbN3",
        "colab_type": "code",
        "colab": {}
      },
      "source": [
        ""
      ],
      "execution_count": 0,
      "outputs": []
    },
    {
      "cell_type": "code",
      "metadata": {
        "id": "0aXLOdskva5p",
        "colab_type": "code",
        "colab": {}
      },
      "source": [
        ""
      ],
      "execution_count": 0,
      "outputs": []
    },
    {
      "cell_type": "code",
      "metadata": {
        "id": "4niJBGbFD--c",
        "colab_type": "code",
        "colab": {}
      },
      "source": [
        "m66a=m66.iloc[:,26:42]"
      ],
      "execution_count": 0,
      "outputs": []
    },
    {
      "cell_type": "code",
      "metadata": {
        "id": "NWEkMqYhD-7U",
        "colab_type": "code",
        "colab": {}
      },
      "source": [
        "#### tension\n",
        "for i in range(1,3960,1):\n",
        "  vc=pd.Series(m66a.iloc[0:15839,:].iloc[(i-1)*4:i*4,:].values[:, :].reshape(64,)).value_counts().sort_index()\n",
        "  df_vc=pd.DataFrame(vc)\n",
        "  start_vc_pd = pd.concat([start_vc_pd,df_vc], axis=1)\n",
        "  print(start_vc_pd)"
      ],
      "execution_count": 0,
      "outputs": []
    },
    {
      "cell_type": "code",
      "metadata": {
        "id": "X6w_OtiBD-4n",
        "colab_type": "code",
        "colab": {}
      },
      "source": [
        "fig=plt.figure(figsize=(1000, 10))\n",
        "flyheat = start_vc_pd\n",
        "sns.heatmap(flyheat,vmin=0,vmax=40,cmap=\"jet\",square=True).invert_yaxis()\n",
        "plt.savefig('flyheat#2.png',dpi=100)"
      ],
      "execution_count": 0,
      "outputs": []
    },
    {
      "cell_type": "code",
      "metadata": {
        "id": "Jup7cnwsD-1k",
        "colab_type": "code",
        "colab": {}
      },
      "source": [
        "fig=plt.figure(figsize=(800, 10))\n",
        "flyheat = start_vc_pd\n",
        "sns.heatmap(flyheat.iloc[0:10,:],vmin=0,vmax=40,cmap=\"jet\",square=True).invert_yaxis()\n",
        "plt.savefig('flyheat#5.png',dpi=100)"
      ],
      "execution_count": 0,
      "outputs": []
    },
    {
      "cell_type": "code",
      "metadata": {
        "id": "mcpWK9rvD-yz",
        "colab_type": "code",
        "colab": {}
      },
      "source": [
        ""
      ],
      "execution_count": 0,
      "outputs": []
    },
    {
      "cell_type": "code",
      "metadata": {
        "id": "EWrAD7Gnz7wF",
        "colab_type": "code",
        "colab": {}
      },
      "source": [
        ""
      ],
      "execution_count": 0,
      "outputs": []
    },
    {
      "cell_type": "code",
      "metadata": {
        "id": "pqu8GYxID-o9",
        "colab_type": "code",
        "colab": {}
      },
      "source": [
        ""
      ],
      "execution_count": 0,
      "outputs": []
    },
    {
      "cell_type": "code",
      "metadata": {
        "id": "blMx0VAbz-ur",
        "colab_type": "code",
        "colab": {}
      },
      "source": [
        ""
      ],
      "execution_count": 0,
      "outputs": []
    },
    {
      "cell_type": "code",
      "metadata": {
        "id": "QQC-v3Unz-se",
        "colab_type": "code",
        "colab": {}
      },
      "source": [
        ""
      ],
      "execution_count": 0,
      "outputs": []
    },
    {
      "cell_type": "code",
      "metadata": {
        "id": "KCJ2cG4Xz-p2",
        "colab_type": "code",
        "colab": {}
      },
      "source": [
        ""
      ],
      "execution_count": 0,
      "outputs": []
    },
    {
      "cell_type": "code",
      "metadata": {
        "id": "9hybh4xyz-ny",
        "colab_type": "code",
        "colab": {}
      },
      "source": [
        ""
      ],
      "execution_count": 0,
      "outputs": []
    },
    {
      "cell_type": "code",
      "metadata": {
        "id": "7YOIEYiJz-kB",
        "colab_type": "code",
        "colab": {}
      },
      "source": [
        ""
      ],
      "execution_count": 0,
      "outputs": []
    },
    {
      "cell_type": "code",
      "metadata": {
        "id": "buTCeu0Dz-h4",
        "colab_type": "code",
        "colab": {}
      },
      "source": [
        ""
      ],
      "execution_count": 0,
      "outputs": []
    },
    {
      "cell_type": "code",
      "metadata": {
        "id": "nQup034Sz-fq",
        "colab_type": "code",
        "colab": {}
      },
      "source": [
        ""
      ],
      "execution_count": 0,
      "outputs": []
    },
    {
      "cell_type": "code",
      "metadata": {
        "id": "byghTuhQz-dZ",
        "colab_type": "code",
        "colab": {}
      },
      "source": [
        ""
      ],
      "execution_count": 0,
      "outputs": []
    },
    {
      "cell_type": "code",
      "metadata": {
        "id": "19570hdWz-Zg",
        "colab_type": "code",
        "colab": {}
      },
      "source": [
        ""
      ],
      "execution_count": 0,
      "outputs": []
    },
    {
      "cell_type": "code",
      "metadata": {
        "id": "ZiTEbOnsz-Xm",
        "colab_type": "code",
        "colab": {}
      },
      "source": [
        ""
      ],
      "execution_count": 0,
      "outputs": []
    },
    {
      "cell_type": "code",
      "metadata": {
        "id": "GwS_ttZoz-UT",
        "colab_type": "code",
        "colab": {}
      },
      "source": [
        ""
      ],
      "execution_count": 0,
      "outputs": []
    },
    {
      "cell_type": "code",
      "metadata": {
        "id": "JgEuxh2qz-Sd",
        "colab_type": "code",
        "colab": {}
      },
      "source": [
        ""
      ],
      "execution_count": 0,
      "outputs": []
    },
    {
      "cell_type": "code",
      "metadata": {
        "id": "VL0h3qNiz-Ov",
        "colab_type": "code",
        "colab": {}
      },
      "source": [
        ""
      ],
      "execution_count": 0,
      "outputs": []
    },
    {
      "cell_type": "code",
      "metadata": {
        "id": "7XLuCd-rz-MO",
        "colab_type": "code",
        "colab": {}
      },
      "source": [
        ""
      ],
      "execution_count": 0,
      "outputs": []
    },
    {
      "cell_type": "code",
      "metadata": {
        "id": "d4lsvJ91z-I-",
        "colab_type": "code",
        "colab": {}
      },
      "source": [
        ""
      ],
      "execution_count": 0,
      "outputs": []
    },
    {
      "cell_type": "code",
      "metadata": {
        "id": "wVR1kG-lz-GX",
        "colab_type": "code",
        "colab": {}
      },
      "source": [
        ""
      ],
      "execution_count": 0,
      "outputs": []
    },
    {
      "cell_type": "code",
      "metadata": {
        "id": "_M0RcS_Yz-Ef",
        "colab_type": "code",
        "colab": {}
      },
      "source": [
        ""
      ],
      "execution_count": 0,
      "outputs": []
    },
    {
      "cell_type": "code",
      "metadata": {
        "id": "NWmwp1c0z-A0",
        "colab_type": "code",
        "colab": {}
      },
      "source": [
        ""
      ],
      "execution_count": 0,
      "outputs": []
    },
    {
      "cell_type": "code",
      "metadata": {
        "id": "3aodcs9kz9-R",
        "colab_type": "code",
        "colab": {}
      },
      "source": [
        ""
      ],
      "execution_count": 0,
      "outputs": []
    },
    {
      "cell_type": "code",
      "metadata": {
        "id": "9GImHWYtz97Q",
        "colab_type": "code",
        "colab": {}
      },
      "source": [
        ""
      ],
      "execution_count": 0,
      "outputs": []
    },
    {
      "cell_type": "code",
      "metadata": {
        "id": "2blPoq2kz946",
        "colab_type": "code",
        "colab": {}
      },
      "source": [
        ""
      ],
      "execution_count": 0,
      "outputs": []
    },
    {
      "cell_type": "code",
      "metadata": {
        "id": "6f5W0pvrz908",
        "colab_type": "code",
        "colab": {}
      },
      "source": [
        ""
      ],
      "execution_count": 0,
      "outputs": []
    },
    {
      "cell_type": "code",
      "metadata": {
        "id": "a75GvtBxz9yV",
        "colab_type": "code",
        "colab": {}
      },
      "source": [
        ""
      ],
      "execution_count": 0,
      "outputs": []
    },
    {
      "cell_type": "code",
      "metadata": {
        "id": "LomI5fBdz9u-",
        "colab_type": "code",
        "colab": {}
      },
      "source": [
        ""
      ],
      "execution_count": 0,
      "outputs": []
    },
    {
      "cell_type": "code",
      "metadata": {
        "id": "slnzn2bdz9tH",
        "colab_type": "code",
        "colab": {}
      },
      "source": [
        ""
      ],
      "execution_count": 0,
      "outputs": []
    },
    {
      "cell_type": "code",
      "metadata": {
        "id": "75iAfgWMz9pq",
        "colab_type": "code",
        "colab": {}
      },
      "source": [
        ""
      ],
      "execution_count": 0,
      "outputs": []
    },
    {
      "cell_type": "code",
      "metadata": {
        "id": "6m8by2N0z9nw",
        "colab_type": "code",
        "colab": {}
      },
      "source": [
        ""
      ],
      "execution_count": 0,
      "outputs": []
    },
    {
      "cell_type": "code",
      "metadata": {
        "id": "EakjROY7z9kA",
        "colab_type": "code",
        "colab": {}
      },
      "source": [
        ""
      ],
      "execution_count": 0,
      "outputs": []
    },
    {
      "cell_type": "code",
      "metadata": {
        "id": "2eN19Fd3z9iW",
        "colab_type": "code",
        "colab": {}
      },
      "source": [
        ""
      ],
      "execution_count": 0,
      "outputs": []
    },
    {
      "cell_type": "code",
      "metadata": {
        "id": "ywN6ZRRTz9eo",
        "colab_type": "code",
        "colab": {}
      },
      "source": [
        ""
      ],
      "execution_count": 0,
      "outputs": []
    },
    {
      "cell_type": "code",
      "metadata": {
        "id": "F3wxOhlNnZzn",
        "colab_type": "code",
        "colab": {}
      },
      "source": [
        "for i in range(1,865,1):\n",
        "  vc=pd.Series(m66e.iloc[0:3456,:].iloc[(i-1)*4:i*4,:].values[:, :].reshape(128,)).value_counts().sort_index()\n",
        "  "
      ],
      "execution_count": 0,
      "outputs": []
    },
    {
      "cell_type": "code",
      "metadata": {
        "id": "TXhht8hBnZwX",
        "colab_type": "code",
        "colab": {}
      },
      "source": [
        ""
      ],
      "execution_count": 0,
      "outputs": []
    },
    {
      "cell_type": "code",
      "metadata": {
        "id": "kWic2kdcnZs_",
        "colab_type": "code",
        "colab": {}
      },
      "source": [
        "for i in range(1,865,1):\n",
        "  vc[i]=pd.Series(m66e.iloc[0:3456,:].iloc[(i-1)*4:i*4,:].values[:, :].reshape(128,)).value_counts().sort_index()\n",
        "  print(vc[i])"
      ],
      "execution_count": 0,
      "outputs": []
    },
    {
      "cell_type": "code",
      "metadata": {
        "id": "1rkXrQQ_nZpy",
        "colab_type": "code",
        "colab": {}
      },
      "source": [
        "result = pd.concat([df1, df4], axis=1, join_axes=[df1.index])"
      ],
      "execution_count": 0,
      "outputs": []
    },
    {
      "cell_type": "code",
      "metadata": {
        "id": "EkD5XphnnZjO",
        "colab_type": "code",
        "colab": {}
      },
      "source": [
        ""
      ],
      "execution_count": 0,
      "outputs": []
    },
    {
      "cell_type": "code",
      "metadata": {
        "id": "wItvMmgmnZXJ",
        "colab_type": "code",
        "colab": {}
      },
      "source": [
        ""
      ],
      "execution_count": 0,
      "outputs": []
    },
    {
      "cell_type": "code",
      "metadata": {
        "id": "dyHauc1YaxM7",
        "colab_type": "code",
        "colab": {}
      },
      "source": [
        "for i in range(10,15,1):\n",
        "  letter=m66.iloc[:,i].value_counts()\n",
        "\n",
        "\n",
        "\n",
        "\n",
        "\n"
      ],
      "execution_count": 0,
      "outputs": []
    },
    {
      "cell_type": "code",
      "metadata": {
        "id": "4RPq8tZpaxKU",
        "colab_type": "code",
        "colab": {}
      },
      "source": [
        "print(letter)"
      ],
      "execution_count": 0,
      "outputs": []
    },
    {
      "cell_type": "code",
      "metadata": {
        "id": "MypzfSgIaxIA",
        "colab_type": "code",
        "colab": {}
      },
      "source": [
        ""
      ],
      "execution_count": 0,
      "outputs": []
    },
    {
      "cell_type": "code",
      "metadata": {
        "id": "NISVbEfVaxEl",
        "colab_type": "code",
        "colab": {}
      },
      "source": [
        "a=m66.iloc[:,i].value_counts()"
      ],
      "execution_count": 0,
      "outputs": []
    },
    {
      "cell_type": "code",
      "metadata": {
        "id": "xzljWQn9axCc",
        "colab_type": "code",
        "colab": {}
      },
      "source": [
        ""
      ],
      "execution_count": 0,
      "outputs": []
    },
    {
      "cell_type": "code",
      "metadata": {
        "id": "OhnS2Whoaw_2",
        "colab_type": "code",
        "colab": {}
      },
      "source": [
        ""
      ],
      "execution_count": 0,
      "outputs": []
    }
  ]
}