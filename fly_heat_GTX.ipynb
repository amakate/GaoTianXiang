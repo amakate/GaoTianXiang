{
  "nbformat": 4,
  "nbformat_minor": 0,
  "metadata": {
    "colab": {
      "name": "Untitled69.ipynb",
      "provenance": [],
      "private_outputs": true,
      "authorship_tag": "ABX9TyN03PPsg3BPNE7trAL8yo+L",
      "include_colab_link": true
    },
    "kernelspec": {
      "name": "python3",
      "display_name": "Python 3"
    }
  },
  "cells": [
    {
      "cell_type": "markdown",
      "metadata": {
        "id": "view-in-github",
        "colab_type": "text"
      },
      "source": [
        "<a href=\"https://colab.research.google.com/github/amakate/GaoTianXiang/blob/master/fly_heat_GTX.ipynb\" target=\"_parent\"><img src=\"https://colab.research.google.com/assets/colab-badge.svg\" alt=\"Open In Colab\"/></a>"
      ]
    },
    {
      "cell_type": "code",
      "metadata": {
        "id": "iQPu1DCWg40L",
        "colab_type": "code",
        "colab": {}
      },
      "source": [
        ""
      ],
      "execution_count": 0,
      "outputs": []
    },
    {
      "cell_type": "code",
      "metadata": {
        "id": "NRoT-mPjCLMB",
        "colab_type": "code",
        "colab": {}
      },
      "source": [
        "import numpy as np \n",
        "import pandas as pd \n",
        "import matplotlib.pyplot as plt\n",
        "import seaborn as sns\n",
        "import matplotlib as mpl\n",
        "#/content/117729730CtM045.txt\n",
        "#/content/118051015CtM066.txt\n",
        "m66=pd.read_table('117110413CtM071.txt',header=None)\n",
        "m66.head()\n",
        "\n",
        "#m66e=m66.iloc[:,10:26]\n",
        "m66e=m66.iloc[:,26:42]\n",
        "len(m66e)\n",
        "\n",
        "days=8\n",
        "hours=days*24\n",
        "mins=hours*60\n",
        "mins\n",
        "\n",
        "peiod=30\n",
        "\n",
        "start=list(range(0,16*peiod))\n",
        "print(start)\n",
        "start_s=pd.Series(start)\n",
        "\n",
        "start_vc=start_s.value_counts().sort_index()\n",
        "print(start_vc)\n",
        "\n",
        "start_vc=start_s.value_counts().sort_index()\n",
        "print(start_vc)\n",
        "start_vc_pd=pd.DataFrame(start_vc)\n",
        "print(start_vc_pd)\n",
        "\n",
        "\n",
        "#peiod=30\n",
        "\n",
        "for i in range(1,int(mins/peiod),1):\n",
        "  vc=pd.Series(m66e.iloc[0:mins-1,:].iloc[(i-1)*peiod:i*peiod,:].values[:, :].reshape(16*peiod,)).value_counts().sort_index()\n",
        "  df_vc=pd.DataFrame(vc)\n",
        "  start_vc_pd = pd.concat([start_vc_pd,df_vc], axis=1)\n",
        "  print(start_vc_pd)\n",
        "\n",
        "\n",
        "fig=plt.figure(figsize=(100, 30))\n",
        "flyheat = start_vc_pd\n",
        "sns.heatmap(flyheat.iloc[0:30,:],vmin=0,vmax=150,cmap=\"CMRmap\",square=True).invert_yaxis()\n",
        "plt.savefig('flyheat#71#2 canB.png')\n",
        "\n"
      ],
      "execution_count": 0,
      "outputs": []
    }
  ]
}