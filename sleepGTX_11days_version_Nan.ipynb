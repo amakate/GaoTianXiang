{
  "nbformat": 4,
  "nbformat_minor": 0,
  "metadata": {
    "colab": {
      "name": "sleepGTX_11days_version_Nan.ipynb  ",
      "provenance": [],
      "collapsed_sections": [],
      "authorship_tag": "ABX9TyNhkp/2wdQR4/0tD/hqv7Mb",
      "include_colab_link": true
    },
    "kernelspec": {
      "name": "python3",
      "display_name": "Python 3"
    }
  },
  "cells": [
    {
      "cell_type": "markdown",
      "metadata": {
        "id": "view-in-github",
        "colab_type": "text"
      },
      "source": [
        "<a href=\"https://colab.research.google.com/github/amakate/GaoTianXiang/blob/master/sleepGTX_11days_version_Nan.ipynb\" target=\"_parent\"><img src=\"https://colab.research.google.com/assets/colab-badge.svg\" alt=\"Open In Colab\"/></a>"
      ]
    },
    {
      "cell_type": "code",
      "metadata": {
        "id": "EoYyGDs6_YRZ",
        "colab_type": "code",
        "colab": {}
      },
      "source": [
        "\n",
        "import numpy as np \n",
        "import pandas as pd \n",
        "import matplotlib.pyplot as plt\n",
        "import seaborn as sns\n",
        "import matplotlib as mpl\n",
        "\n",
        "def sleepGTX(s):\n",
        "    ac_sleep=0\n",
        "    #ac_sleep_stop=0\n",
        "    ac_sleep_time=0\n",
        "    cur_repeat_time = 1 \n",
        "    pre_element = None  \n",
        "    sleep_acc=[]\n",
        "    ac_sleep_tail=0\n",
        "    \n",
        "    for i in s:\n",
        "        \n",
        "     if i == 0: \n",
        "      if pre_element == 0: \n",
        "         cur_repeat_time =cur_repeat_time + 1 \n",
        "         #print(cur_repeat_time)\n",
        "         if cur_repeat_time > 4 :  ### sleep accumulation \n",
        "            #ac_sleep_time = ac_sleep_time+1\n",
        "            pre_element = i\n",
        "            #print(ac_sleep_time)\n",
        "            ac_sleep= 5 + ac_sleep_time\n",
        "            ac_sleep_time = ac_sleep_time+1\n",
        "            #print(ac_sleep)\n",
        "            ac_sleep_tail = ac_sleep\n",
        "        \n",
        "        \n",
        "        \n",
        "         else:\n",
        "            #print(cur_repeat_time)\n",
        "            ac_sleep_time = 0\n",
        "            pre_element = i\n",
        "        \n",
        "        \n",
        "      else:\n",
        "            ac_sleep_time = 0\n",
        "            cur_repeat_time = 1\n",
        "            pre_element = i\n",
        "            ac_sleep = ac_sleep\n",
        "     else: \n",
        "      \n",
        "      if pre_element == 0:  ###   sleep count stop switch\n",
        "          #print(ac_sleep)\n",
        "          if ac_sleep_tail>4:\n",
        "              print(ac_sleep_tail)\n",
        "              sleep_acc.append(ac_sleep_tail)\n",
        "              ac_sleep_tail=0\n",
        "         \n",
        "          cur_repeat_time = 1\n",
        "          pre_element = i\n",
        "         \n",
        "      else:\n",
        "          cur_repeat_time = 1\n",
        "          ac_sleep_time=0\n",
        "          pre_element = i\n",
        "          ac_sleep_time = 0\n",
        "\n",
        "    sa=sum(sleep_acc)\n",
        "    if s[-1] == 0:\n",
        "        sleep=sa + ac_sleep_tail\n",
        "    else:\n",
        "        sleep=sa\n",
        "    #print(ac_sleep)        \n",
        "    #print(ac_sleep_time)\n",
        "    #print(cur_repeat_time)\n",
        "    #print(ac_sleep_stop)\n",
        "    #print(ac_sleep_tail)\n",
        "    #print(sleep)\n",
        "    return sleep\n"
      ],
      "execution_count": 0,
      "outputs": []
    },
    {
      "cell_type": "code",
      "metadata": {
        "id": "XO8GLIOd_Yvx",
        "colab_type": "code",
        "colab": {}
      },
      "source": [
        "\n",
        "\n",
        "\n",
        "day=8\n",
        "point=day*48-1\n",
        "points=day*24*60\n",
        "\n",
        "\n",
        "m71=pd.read_table('1051321CtM094.txt',header=None)\n",
        "\n",
        "\n",
        "start=list(range(0,point))\n",
        "print(start)\n",
        "start_s=pd.Series(start)\n",
        "start_vc=start_s.value_counts().sort_index()\n",
        "print(start_vc)                       \n",
        "start_vc_pd=pd.DataFrame(start_vc)\n",
        "print(start_vc_pd) \n"
      ],
      "execution_count": 0,
      "outputs": []
    },
    {
      "cell_type": "code",
      "metadata": {
        "id": "it7XcEwt_YyL",
        "colab_type": "code",
        "colab": {}
      },
      "source": [
        "\n",
        "\n",
        "\n",
        "for i in range(10,42,1):\n",
        "   #row_df=m71.iloc[0:15841,i].values.tolist()\n",
        "   row_df=m71.iloc[0:points,i]\n",
        "   ##row_df=m71.iloc[0:15840,16]\n",
        "\n",
        "   row_np=row_df.values.reshape(day*48,30)\n",
        "   print(row_np)\n",
        "   \n",
        "   row_np=row_np.T\n",
        "   \n",
        "   row_reshape_df=pd.DataFrame(row_np)\n",
        "   print(row_reshape_df)\n",
        "\n",
        "\n",
        "\n",
        "   \n",
        "   sleep_list=[] \n",
        "   for j in range(1,day*48,1):\n",
        "      row_30bin=row_reshape_df.iloc[:,j].values.tolist()\n",
        "      sleep_30bin=sleepGTX(row_30bin)\n",
        "      sleep_list.append(sleep_30bin)\n",
        "      #sleep_list.insert(sleep_30bin)\n",
        "\n",
        "   sleep_df=pd.DataFrame(sleep_list)\n",
        "   start_vc_pd = pd.concat([start_vc_pd,sleep_df], axis=1)   \n",
        "   print(start_vc_pd)   \n",
        "\n",
        "\n",
        "sleep_data_stock=start_vc_pd\n",
        "\n",
        "\n"
      ],
      "execution_count": 0,
      "outputs": []
    },
    {
      "cell_type": "code",
      "metadata": {
        "id": "O2QBxPNoFx6_",
        "colab_type": "code",
        "colab": {}
      },
      "source": [
        "sleep_1st=sleep_data_stock.iloc[:,1:17]\n",
        "sleep_2nd=sleep_data_stock.iloc[:,17:33]\n",
        "\n",
        "sleep_1st.columns\n"
      ],
      "execution_count": 0,
      "outputs": []
    },
    {
      "cell_type": "code",
      "metadata": {
        "id": "ROuRRRYhMnlX",
        "colab_type": "code",
        "colab": {}
      },
      "source": [
        "#sleep_1st.type\n",
        "sleep_1st.columns=['A','B','C','D','E','F','G','H','I','J','K','L','M','N','O','P']\n",
        "sleep_1st"
      ],
      "execution_count": 0,
      "outputs": []
    },
    {
      "cell_type": "code",
      "metadata": {
        "id": "aQCBhe9OF7Xj",
        "colab_type": "code",
        "colab": {}
      },
      "source": [
        "sleep_2nd.columns=['Q','R','S','T','U','V','W','X','Y','Z','AA','AB','AC','AD','AF','AG']\n",
        "sleep_2nd"
      ],
      "execution_count": 0,
      "outputs": []
    },
    {
      "cell_type": "code",
      "metadata": {
        "id": "O_zzb6AsGFMM",
        "colab_type": "code",
        "colab": {}
      },
      "source": [
        "sleep_2nd.iloc[10].hist()"
      ],
      "execution_count": 0,
      "outputs": []
    },
    {
      "cell_type": "code",
      "metadata": {
        "id": "4x-Mw5djGEwi",
        "colab_type": "code",
        "colab": {}
      },
      "source": [
        "#sleep_1st.value_counts()"
      ],
      "execution_count": 0,
      "outputs": []
    },
    {
      "cell_type": "code",
      "metadata": {
        "id": "noIEU8r8HIW-",
        "colab_type": "code",
        "colab": {}
      },
      "source": [
        "data.apply(lambda x : datetime.datet#ime(year=x['year'],month=x['month'],day=x['day'] , hour=x['hour'] ) , axis=1)"
      ],
      "execution_count": 0,
      "outputs": []
    },
    {
      "cell_type": "code",
      "metadata": {
        "id": "Hwl8BsplfSLl",
        "colab_type": "code",
        "colab": {}
      },
      "source": [
        "sleep_1st_count=sleep_1st.apply(lambda x: x.value_counts())"
      ],
      "execution_count": 0,
      "outputs": []
    },
    {
      "cell_type": "code",
      "metadata": {
        "id": "cUjeZYbQHITi",
        "colab_type": "code",
        "colab": {}
      },
      "source": [
        "sleep_2nd_count=sleep_2nd.apply(lambda x: x.value_counts())"
      ],
      "execution_count": 0,
      "outputs": []
    },
    {
      "cell_type": "code",
      "metadata": {
        "id": "qyWYF5P7fWAq",
        "colab_type": "code",
        "colab": {}
      },
      "source": [
        "sleep_1st_count"
      ],
      "execution_count": 0,
      "outputs": []
    },
    {
      "cell_type": "code",
      "metadata": {
        "id": "fXsgslNWHIQs",
        "colab_type": "code",
        "colab": {}
      },
      "source": [
        "sleep_2nd_count\n"
      ],
      "execution_count": 0,
      "outputs": []
    },
    {
      "cell_type": "code",
      "metadata": {
        "id": "mp2qYuaeHINI",
        "colab_type": "code",
        "colab": {}
      },
      "source": [
        "sleep_2nd_count.isnull().any()"
      ],
      "execution_count": 0,
      "outputs": []
    },
    {
      "cell_type": "code",
      "metadata": {
        "id": "7eA6uuH2HIKm",
        "colab_type": "code",
        "colab": {}
      },
      "source": [
        "sleep_2nd_count.isna().any()"
      ],
      "execution_count": 0,
      "outputs": []
    },
    {
      "cell_type": "code",
      "metadata": {
        "id": "AkC6ANBsHIEl",
        "colab_type": "code",
        "colab": {}
      },
      "source": [
        "sleep_2nd_count.columns[sleep_2nd_count.isna().any()] "
      ],
      "execution_count": 0,
      "outputs": []
    },
    {
      "cell_type": "code",
      "metadata": {
        "id": "rr2_Wt4fHIAw",
        "colab_type": "code",
        "colab": {}
      },
      "source": [
        "sleep_1st_count.columns[sleep_2nd_count.isna().any()] "
      ],
      "execution_count": 0,
      "outputs": []
    },
    {
      "cell_type": "code",
      "metadata": {
        "id": "Ldj74CjmoaYI",
        "colab_type": "code",
        "colab": {}
      },
      "source": [
        "sleep_2nd=sleep_2nd.drop(sleep_2nd_count.columns[sleep_2nd_count.isna().any()] , axis=1)"
      ],
      "execution_count": 0,
      "outputs": []
    },
    {
      "cell_type": "code",
      "metadata": {
        "id": "0c68CgG-oaU2",
        "colab_type": "code",
        "colab": {}
      },
      "source": [
        "sleep_2nd"
      ],
      "execution_count": 0,
      "outputs": []
    },
    {
      "cell_type": "code",
      "metadata": {
        "id": "c9r_HswmoaNu",
        "colab_type": "code",
        "colab": {}
      },
      "source": [
        "sleep_1st=sleep_1st.drop(sleep_1st_count.columns[sleep_1st_count.isna().any()] , axis=1)"
      ],
      "execution_count": 0,
      "outputs": []
    },
    {
      "cell_type": "code",
      "metadata": {
        "id": "l5F64cVGoaJH",
        "colab_type": "code",
        "colab": {}
      },
      "source": [
        "sleep_1st"
      ],
      "execution_count": 0,
      "outputs": []
    },
    {
      "cell_type": "code",
      "metadata": {
        "id": "SapOSh7coaG5",
        "colab_type": "code",
        "colab": {}
      },
      "source": [
        ""
      ],
      "execution_count": 0,
      "outputs": []
    },
    {
      "cell_type": "code",
      "metadata": {
        "id": "rO7MlSQeoaFM",
        "colab_type": "code",
        "colab": {}
      },
      "source": [
        ""
      ],
      "execution_count": 0,
      "outputs": []
    },
    {
      "cell_type": "code",
      "metadata": {
        "id": "pUvAHvQpoaAx",
        "colab_type": "code",
        "colab": {}
      },
      "source": [
        ""
      ],
      "execution_count": 0,
      "outputs": []
    },
    {
      "cell_type": "code",
      "metadata": {
        "id": "yvA4gKZhoZ8_",
        "colab_type": "code",
        "colab": {}
      },
      "source": [
        ""
      ],
      "execution_count": 0,
      "outputs": []
    },
    {
      "cell_type": "code",
      "metadata": {
        "id": "Q8nzbBKDFz9w",
        "colab_type": "code",
        "colab": {}
      },
      "source": [
        "\n",
        "\n",
        "x = np.arange(1,day*48,1)\n",
        "##very inpormtant\n",
        "x_pd=pd.DataFrame({'col1':x})"
      ],
      "execution_count": 0,
      "outputs": []
    },
    {
      "cell_type": "code",
      "metadata": {
        "id": "FhxyGTfK_Y0i",
        "colab_type": "code",
        "colab": {}
      },
      "source": [
        "first_des=sleep_1st.T.describe().T\n",
        "second_des=sleep_2nd.T.describe().T\n",
        "\n",
        "first_des.to_csv('1st.csv')\n",
        "second_des.to_csv('2nd.csv')"
      ],
      "execution_count": 0,
      "outputs": []
    },
    {
      "cell_type": "code",
      "metadata": {
        "id": "B22TN3Lh_pXc",
        "colab_type": "code",
        "colab": {}
      },
      "source": [
        "\n",
        "\n",
        "first_des_add_index=pd.concat([x_pd,first_des],1)\n",
        "CL1=first_des_add_index.loc[:,\"col1\"]\n",
        "CL2=first_des_add_index.loc[:,\"mean\"]\n",
        "CL5=first_des_add_index.loc[:,\"std\"]\n",
        "CL5=CL5/4\n",
        "\n",
        "plt.figure(figsize=(110,10))\n",
        "plt.plot(CL1[:],CL2[:],\"r\",lw = 5.0)\n",
        "plt.errorbar(CL1[:],CL2[:], yerr = CL5[:], capsize=5, fmt='o', markersize=10, ecolor='k',elinewidth=0.5, markeredgecolor = \"black\", color='w')\n",
        "plt.savefig('sleep#7'+'.png')\n",
        "\n"
      ],
      "execution_count": 0,
      "outputs": []
    },
    {
      "cell_type": "code",
      "metadata": {
        "id": "NsaS2yQmOX0b",
        "colab_type": "code",
        "colab": {}
      },
      "source": [
        "second_des_add_index=pd.concat([x_pd,second_des],1)\n",
        "CL12=second_des_add_index.loc[:,\"col1\"]\n",
        "CL22=second_des_add_index.loc[:,\"mean\"]\n",
        "CL52=second_des_add_index.loc[:,\"std\"]\n",
        "CL52=CL52/4\n",
        "\n",
        "\n",
        "plt.figure(figsize=(110,10))\n",
        "plt.plot(CL12[:],CL22[:],\"y\",lw = 5.0)\n",
        "plt.errorbar(CL12[:],CL22[:], yerr = CL52[:], capsize=5, fmt='o', markersize=10, ecolor='g',elinewidth=0.5, markeredgecolor = \"black\", color='w')\n",
        "plt.savefig('sleep#7'+'.png')\n"
      ],
      "execution_count": 0,
      "outputs": []
    },
    {
      "cell_type": "code",
      "metadata": {
        "id": "Q1oaoQR2Tb4T",
        "colab_type": "code",
        "colab": {}
      },
      "source": [
        "\n",
        "\n",
        "\n",
        "plt.figure(figsize=(110,10))\n",
        "plt.plot(CL1[:],CL2[:],\"red\",lw = 5.0)\n",
        "plt.errorbar(CL1[:],CL2[:], yerr = CL5[:], capsize=5, fmt='o', markersize=10, ecolor='blue',elinewidth=0.5, markeredgecolor = \"black\", color='w')\n",
        "\n",
        "plt.plot(CL12[:],CL22[:],\"blue\",lw = 5.0)\n",
        "plt.errorbar(CL12[:],CL22[:], yerr = CL52[:], capsize=5, fmt='o', markersize=10, ecolor='blue',elinewidth=0.5, markeredgecolor = \"black\", color='w')\n",
        "plt.savefig('sleep#6'+'.png')\n",
        "\n",
        "            "
      ],
      "execution_count": 0,
      "outputs": []
    },
    {
      "cell_type": "code",
      "metadata": {
        "id": "6E4KV5b99K5T",
        "colab_type": "code",
        "colab": {}
      },
      "source": [
        "\n",
        "fig=plt.figure(figsize=(30,40),dpi=200)\n",
        "for i in range(1,11,1):\n",
        "    j=i+1\n",
        "    ax=fig.add_subplot(12,1,i)\n",
        "    ax.plot(CL1[(i-1)*48:j*48], CL2[(i-1)*48:j*48], \"g\", lw = 5.0)\n",
        "    ax.errorbar(CL1[(i-1)*48:j*48],CL2[(i-1)*48:j*48],yerr=CL5[(i-1)*48:j*48],xerr=None,fmt=\"o\",ms=2.0, mfc=\"b\",\n",
        "             elinewidth=1.0, ecolor='y',capsize=2.0)\n",
        "    ax.plot(CL12[(i-1)*48:j*48], CL22[(i-1)*48:j*48], \"blue\", lw = 5.0)\n",
        "    ax.errorbar(CL12[(i-1)*48:j*48],CL22[(i-1)*48:j*48],yerr=CL52[(i-1)*48:j*48],xerr=None,fmt=\"o\",ms=2.0, mfc=\"b\",\n",
        "             elinewidth=1.0, ecolor='black',capsize=2.0)\n",
        "    ax.set_ylim(0,30)\n",
        "    ax.set_xlim()\n",
        "    ax.set_title([i])\n",
        "\n",
        "plt.savefig('#4'+'.png')\n"
      ],
      "execution_count": 0,
      "outputs": []
    },
    {
      "cell_type": "code",
      "metadata": {
        "id": "NQ3Mfu0TPa1K",
        "colab_type": "code",
        "colab": {}
      },
      "source": [
        "import numpy as np \n",
        "import pandas as pd \n",
        "import matplotlib.pyplot as plt\n",
        "import seaborn as sns\n",
        "import matplotlib as mpl"
      ],
      "execution_count": 0,
      "outputs": []
    },
    {
      "cell_type": "code",
      "metadata": {
        "id": "QuKKjJicEr6f",
        "colab_type": "code",
        "colab": {}
      },
      "source": [
        "\n",
        "m71=pd.read_table('1051321CtM094.txt',header=None)\n",
        "m71.head()\n",
        "m71e=m71.iloc[:,10:26]\n",
        "start=list(range(0,128))\n",
        "print(start)\n",
        "start_s=pd.Series(start)\n",
        "start_vc=start_s.value_counts().sort_index()\n",
        "print(start_vc)\n",
        "start_vc=start_s.value_counts().sort_index()\n",
        "print(start_vc)\n",
        "start_vc_pd=pd.DataFrame(start_vc)\n",
        "print(start_vc_pd)\n",
        "#### tension\n",
        "for i in range(1,3960,1):\n",
        "  vc=pd.Series(m71e.iloc[0:15839,:].iloc[(i-1)*4:i*4,:].values[:, :].reshape(64,)).value_counts().sort_index()\n",
        "  df_vc=pd.DataFrame(vc)\n",
        "  start_vc_pd = pd.concat([start_vc_pd,df_vc], axis=1)\n",
        "  print(start_vc_pd)\n",
        "\n",
        "flyheat = start_vc_pd\n",
        "fig=plt.figure(figsize=(200, 30))\n",
        "flyheat = start_vc_pd\n",
        "sns.heatmap(flyheat.iloc[0:30,0:600],vmin=0,vmax=40,cmap=\"jet\",square=True).invert_yaxis()\n",
        "plt.savefig('flyheat.png')"
      ],
      "execution_count": 0,
      "outputs": []
    },
    {
      "cell_type": "code",
      "metadata": {
        "id": "5uTk3PRkEr3A",
        "colab_type": "code",
        "colab": {}
      },
      "source": [
        ""
      ],
      "execution_count": 0,
      "outputs": []
    },
    {
      "cell_type": "code",
      "metadata": {
        "id": "mrvFFGzqEr0F",
        "colab_type": "code",
        "colab": {}
      },
      "source": [
        ""
      ],
      "execution_count": 0,
      "outputs": []
    },
    {
      "cell_type": "code",
      "metadata": {
        "id": "tg_buz_mErwp",
        "colab_type": "code",
        "colab": {}
      },
      "source": [
        ""
      ],
      "execution_count": 0,
      "outputs": []
    },
    {
      "cell_type": "code",
      "metadata": {
        "id": "LuMj4vzJErsg",
        "colab_type": "code",
        "colab": {}
      },
      "source": [
        ""
      ],
      "execution_count": 0,
      "outputs": []
    },
    {
      "cell_type": "code",
      "metadata": {
        "id": "EMZjwgxw9OkT",
        "colab_type": "code",
        "colab": {}
      },
      "source": [
        ""
      ],
      "execution_count": 0,
      "outputs": []
    },
    {
      "cell_type": "code",
      "metadata": {
        "id": "LhZK4Dgi_pR-",
        "colab_type": "code",
        "colab": {}
      },
      "source": [
        ""
      ],
      "execution_count": 0,
      "outputs": []
    },
    {
      "cell_type": "code",
      "metadata": {
        "id": "rLfu-dRaoRd_",
        "colab_type": "code",
        "colab": {}
      },
      "source": [
        ""
      ],
      "execution_count": 0,
      "outputs": []
    },
    {
      "cell_type": "code",
      "metadata": {
        "id": "-32lGRYtoRbt",
        "colab_type": "code",
        "colab": {}
      },
      "source": [
        ""
      ],
      "execution_count": 0,
      "outputs": []
    },
    {
      "cell_type": "code",
      "metadata": {
        "id": "wWPY2HC7oRY-",
        "colab_type": "code",
        "colab": {}
      },
      "source": [
        ""
      ],
      "execution_count": 0,
      "outputs": []
    },
    {
      "cell_type": "code",
      "metadata": {
        "id": "W1UWANb1oRWL",
        "colab_type": "code",
        "colab": {}
      },
      "source": [
        ""
      ],
      "execution_count": 0,
      "outputs": []
    }
  ]
}